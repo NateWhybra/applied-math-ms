{
 "cells": [
  {
   "cell_type": "code",
   "execution_count": 1,
   "id": "8a23d1b8-e88c-48a2-99aa-8828ebea32a7",
   "metadata": {},
   "outputs": [],
   "source": [
    "import numpy\n",
    "import matplotlib.pyplot as plt"
   ]
  },
  {
   "cell_type": "code",
   "execution_count": 4,
   "id": "6425d1c6-8d13-4287-b4dc-8ddf1861cb0d",
   "metadata": {},
   "outputs": [],
   "source": [
    "def f(x, r=3):\n",
    "    if 0 <= x <= 1/2:\n",
    "        return r * x\n",
    "    elif 1/2 < x <= 1:\n",
    "        return r * (1-x)\n",
    "    else:\n",
    "        return np.nan\n",
    "\n",
    "def tent(x0, r=3, n=1000):\n",
    "    x = [x0]\n",
    "    for i in range(1, n):\n",
    "        x.append(f(x, r=r))\n",
    "    return x"
   ]
  },
  {
   "cell_type": "code",
   "execution_count": null,
   "id": "21989095-82fd-440d-add0-326b6b064fef",
   "metadata": {},
   "outputs": [],
   "source": [
    "inits = np.linspace(-5, 5, 100)\n",
    "\n",
    "fig, ax = plt.subplots()\n"
   ]
  }
 ],
 "metadata": {
  "kernelspec": {
   "display_name": "Python 3 (ipykernel)",
   "language": "python",
   "name": "python3"
  },
  "language_info": {
   "codemirror_mode": {
    "name": "ipython",
    "version": 3
   },
   "file_extension": ".py",
   "mimetype": "text/x-python",
   "name": "python",
   "nbconvert_exporter": "python",
   "pygments_lexer": "ipython3",
   "version": "3.12.7"
  }
 },
 "nbformat": 4,
 "nbformat_minor": 5
}
