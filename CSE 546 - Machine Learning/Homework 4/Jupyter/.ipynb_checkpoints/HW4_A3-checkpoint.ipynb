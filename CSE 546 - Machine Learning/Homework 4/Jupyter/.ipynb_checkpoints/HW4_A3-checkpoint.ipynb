{
 "cells": [
  {
   "cell_type": "code",
   "execution_count": 124,
   "id": "2a01ca12-66fe-4394-b428-28264997edd9",
   "metadata": {},
   "outputs": [],
   "source": [
    "import torch\n",
    "from torch import nn\n",
    "import numpy as np\n",
    "from typing import Tuple, Union, List, Callable\n",
    "from torch.optim import Adam\n",
    "import torchvision\n",
    "from torch.utils.data import DataLoader, TensorDataset, random_split\n",
    "import matplotlib.pyplot as plt\n",
    "from tqdm.notebook import tqdm\n",
    "\n",
    "import os\n",
    "os.environ[\"KMP_DUPLICATE_LIB_OK\"] = \"TRUE\""
   ]
  },
  {
   "cell_type": "code",
   "execution_count": 2,
   "id": "74067f05-90dc-42d1-89f3-ec795a6198e0",
   "metadata": {},
   "outputs": [
    {
     "name": "stdout",
     "output_type": "stream",
     "text": [
      "cuda\n"
     ]
    }
   ],
   "source": [
    "# Connect to GPU.\n",
    "DEVICE = \"cuda\" if torch.cuda.is_available() else \"cpu\"\n",
    "print(DEVICE)  # This should print out CUDA."
   ]
  },
  {
   "cell_type": "code",
   "execution_count": 172,
   "id": "cbfb334d-c46c-4c7d-b05b-42198c5d2670",
   "metadata": {},
   "outputs": [],
   "source": [
    "# Load data.\n",
    "train_dataset = torchvision.datasets.CIFAR10(\"./data\", train=True, download=True, transform=torchvision.transforms.ToTensor())\n",
    "test_dataset = torchvision.datasets.CIFAR10(\"./data\", train=False, download=True, transform=torchvision.transforms.ToTensor())\n",
    "SAMPLE_DATA = True # TODO: Change this back!\n",
    "batch_size = 128\n",
    "# batch_size = 256\n",
    "\n",
    "if SAMPLE_DATA:\n",
    "  train_dataset, _ = random_split(train_dataset, [int(0.1 * len(train_dataset)), int(0.9 * len(train_dataset))]) # get 10% of train dataset and \"throw away\" the other 90%\n",
    "\n",
    "train_dataset, val_dataset = random_split(train_dataset, [int(0.9 * len(train_dataset)), int( 0.1 * len(train_dataset))])\n",
    "\n",
    "# Create separate dataloaders for the train, test, and validation set\n",
    "train_loader = DataLoader(\n",
    "    train_dataset,\n",
    "    batch_size=batch_size,\n",
    "    shuffle=True\n",
    ")\n",
    "\n",
    "val_loader = DataLoader(\n",
    "    val_dataset,\n",
    "    batch_size=batch_size,\n",
    "    shuffle=True\n",
    ")\n",
    "\n",
    "test_loader = DataLoader(\n",
    "    test_dataset,\n",
    "    batch_size=batch_size,\n",
    "    shuffle=True)"
   ]
  },
  {
   "cell_type": "code",
   "execution_count": 116,
   "id": "066f69a8-ef15-4f20-80ad-5dd8ed164998",
   "metadata": {},
   "outputs": [
    {
     "data": {
      "image/png": "[encoded data removed]",
      "text/plain": [
       "<Figure size 640x480 with 1 Axes>"
      ]
     },
     "metadata": {},
     "output_type": "display_data"
    }
   ],
   "source": [
    "# Look at data.\n",
    "data_iter = iter(train_loader)\n",
    "images, labels = next(data_iter)\n",
    "image = images[0]\n",
    "image = image.permute(1, 2, 0)\n",
    "plt.imshow(image)\n",
    "plt.show()\n",
    "\n",
    "# Get d.\n",
    "d = image.shape.numel()"
   ]
  },
  {
   "cell_type": "code",
   "execution_count": 176,
   "id": "5db5488d-bb00-4659-aff0-6aeaf495c09c",
   "metadata": {},
   "outputs": [],
   "source": [
    "# Definie the first model.\n",
    "def model_A(M=1500) -> nn.Module:\n",
    "    def model_func():\n",
    "        \"\"\"Instantiate a linear model and send it to device.\"\"\"\n",
    "        model = nn.Sequential(\n",
    "                nn.Flatten(),\n",
    "                nn.Linear(in_features=d, out_features=M),\n",
    "                nn.ReLU(),\n",
    "                nn.Linear(M, 10)\n",
    "             )\n",
    "        return model.to(DEVICE)\n",
    "    return model_func"
   ]
  },
  {
   "cell_type": "code",
   "execution_count": 188,
   "id": "36795a29-db3f-429a-8a68-331ea0228d08",
   "metadata": {},
   "outputs": [],
   "source": [
    "# ...\n",
    "def train_A(\n",
    "    model: nn.Module, optimizer: SGD,\n",
    "    train_loader: DataLoader, val_loader: DataLoader,\n",
    "    epochs: int = 20\n",
    "    ) -> Tuple[List[float], List[float], List[float], List[float]]:\n",
    "    \"\"\"\n",
    "    Trains a model for the specified number of epochs using the loaders.\n",
    "\n",
    "    Returns:\n",
    "    Lists of training loss, training accuracy, validation loss, validation accuracy for each epoch.\n",
    "    \"\"\"\n",
    "\n",
    "    loss = nn.CrossEntropyLoss()\n",
    "    train_losses = []\n",
    "    train_accuracies = []\n",
    "    val_losses = []\n",
    "    val_accuracies = []\n",
    "    for e in tqdm(range(epochs)):\n",
    "        model.train()\n",
    "        train_loss = 0.0\n",
    "        train_acc = 0.0\n",
    "\n",
    "        # Main training loop; iterate over train_loader. The loop\n",
    "        # terminates when the train loader finishes iterating, which is one epoch.\n",
    "        for (x_batch, labels) in train_loader:\n",
    "            x_batch, labels = x_batch.to(DEVICE), labels.to(DEVICE)\n",
    "            optimizer.zero_grad()\n",
    "            labels_pred = model(x_batch)\n",
    "            batch_loss = loss(labels_pred, labels)\n",
    "            train_loss = train_loss + batch_loss.item()\n",
    "\n",
    "            labels_pred_max = torch.argmax(labels_pred, 1)\n",
    "            batch_acc = torch.sum(labels_pred_max == labels)\n",
    "            train_acc = train_acc + batch_acc.item()\n",
    "\n",
    "            batch_loss.backward()\n",
    "            optimizer.step()\n",
    "        train_losses.append(train_loss / len(train_loader))\n",
    "        train_accuracies.append(train_acc / (batch_size * len(train_loader)))\n",
    "\n",
    "        # Validation loop; use .no_grad() context manager to save memory.\n",
    "        model.eval()\n",
    "        val_loss = 0.0\n",
    "        val_acc = 0.0\n",
    "\n",
    "        with torch.no_grad():\n",
    "            for (v_batch, labels) in val_loader:\n",
    "                v_batch, labels = v_batch.to(DEVICE), labels.to(DEVICE)\n",
    "                labels_pred = model(v_batch)\n",
    "                v_batch_loss = loss(labels_pred, labels)\n",
    "                val_loss = val_loss + v_batch_loss.item()\n",
    "\n",
    "                v_pred_max = torch.argmax(labels_pred, 1)\n",
    "                batch_acc = torch.sum(v_pred_max == labels)\n",
    "                val_acc = val_acc + batch_acc.item()\n",
    "            val_losses.append(val_loss / len(val_loader))\n",
    "            val_accuracies.append(val_acc / (batch_size * len(val_loader)))\n",
    "            # print(\"Val Acc\", val_acc / (batch_size * len(val_loader)))\n",
    "\n",
    "    return train_losses, train_accuracies, val_losses, val_accuracies"
   ]
  },
  {
   "cell_type": "code",
   "execution_count": 204,
   "id": "8d2b9b80-c212-4676-9920-350f529e273b",
   "metadata": {},
   "outputs": [],
   "source": [
    "def parameter_search(train_loader: DataLoader,\n",
    "                     val_loader: DataLoader,\n",
    "                     model_fn) -> float:\n",
    "    \"\"\"\n",
    "    Parameter search for our linear model using SGD.\n",
    "\n",
    "    Args:\n",
    "    train_loader: the train dataloader.\n",
    "    val_loader: the validation dataloader.\n",
    "    model_fn: a function that, when called, returns a torch.nn.Module.\n",
    "\n",
    "    Returns:\n",
    "    The learning rate with the least validation loss.\n",
    "    NOTE: You may need to modify this function to search over and return\n",
    "     other parameters beyond learning rate.\n",
    "    \"\"\"\n",
    "    best_loss = torch.tensor(np.inf)\n",
    "    best_lr = 0.0\n",
    "    best_decay = 0\n",
    "    best_momentum = 0\n",
    "    best_acc = 0\n",
    "\n",
    "    lrs = np.random.uniform(1e-3, 1e-2, 5)\n",
    "    decays = np.random.uniform(1e-5, 1e-3, 5)\n",
    "    momentums = [0.6, 0.75, 0.9]\n",
    "     \n",
    "    for lr in lrs:\n",
    "        for decay in decays:\n",
    "            for momentum in momentums:\n",
    "                print(f\"trying learning rate {lr}\")\n",
    "                print(f\"trying L2 reg {decay}\")\n",
    "                print(f\"trying momentum {momentum}\")\n",
    "                # print(f\"Hidden {h}\")\n",
    "                model = model_fn()\n",
    "                optim = SGD(model.parameters(), lr, momentum=momentum, weight_decay=decay)\n",
    "                train_loss, train_acc, val_loss, val_acc = train_A(\n",
    "                    model,\n",
    "                    optim,\n",
    "                    train_loader,\n",
    "                    val_loader,\n",
    "                    epochs=15\n",
    "                    )\n",
    "\n",
    "                print(max(val_acc))\n",
    "        \n",
    "                if min(val_loss) < best_loss:\n",
    "                    best_loss = min(val_loss)\n",
    "                    best_lr = lr\n",
    "                    best_decay = decay\n",
    "                    best_momentum = momentum\n",
    "                    best_acc = max(val_acc)\n",
    "\n",
    "                if max(val_acc) >= 0.5:\n",
    "                    best_loss = min(val_loss)\n",
    "                    best_lr = lr\n",
    "                    best_decay = decay\n",
    "                    best_momentum = momentum\n",
    "                    best_acc = max(val_acc)\n",
    "                    break\n",
    "                    \n",
    "    return (best_lr, best_decay, best_momentum, best_acc)"
   ]
  },
  {
   "cell_type": "code",
   "execution_count": 205,
   "id": "6fa7f0fa-8bc8-42bc-bf76-8ccce6e7a03e",
   "metadata": {},
   "outputs": [
    {
     "name": "stdout",
     "output_type": "stream",
     "text": [
      "trying learning rate 0.009562343597344876\n",
      "trying L2 reg 0.00048167144051312655\n",
      "trying momentum 0.6\n"
     ]
    },
    {
     "data": {
      "application/vnd.jupyter.widget-view+json": {
       "model_id": "28b5e734849d4213853612af98db2b43",
       "version_major": 2,
       "version_minor": 0
      },
      "text/plain": [
       "  0%|          | 0/15 [00:00<?, ?it/s]"
      ]
     },
     "metadata": {},
     "output_type": "display_data"
    },
    {
     "name": "stdout",
     "output_type": "stream",
     "text": [
      "0.357421875\n",
      "trying learning rate 0.009562343597344876\n",
      "trying L2 reg 0.00048167144051312655\n",
      "trying momentum 0.75\n"
     ]
    },
    {
     "data": {
      "application/vnd.jupyter.widget-view+json": {
       "model_id": "1b60d146074942bb82165bc0c221c957",
       "version_major": 2,
       "version_minor": 0
      },
      "text/plain": [
       "  0%|          | 0/15 [00:00<?, ?it/s]"
      ]
     },
     "metadata": {},
     "output_type": "display_data"
    },
    {
     "name": "stdout",
     "output_type": "stream",
     "text": [
      "0.400390625\n",
      "trying learning rate 0.009562343597344876\n",
      "trying L2 reg 0.00048167144051312655\n",
      "trying momentum 0.9\n"
     ]
    },
    {
     "data": {
      "application/vnd.jupyter.widget-view+json": {
       "model_id": "5d9ccbad665a4fa3847cc67a8c202fc9",
       "version_major": 2,
       "version_minor": 0
      },
      "text/plain": [
       "  0%|          | 0/15 [00:00<?, ?it/s]"
      ]
     },
     "metadata": {},
     "output_type": "display_data"
    },
    {
     "name": "stdout",
     "output_type": "stream",
     "text": [
      "0.396484375\n",
      "trying learning rate 0.009562343597344876\n",
      "trying L2 reg 0.0006460245405125394\n",
      "trying momentum 0.6\n"
     ]
    },
    {
     "data": {
      "application/vnd.jupyter.widget-view+json": {
       "model_id": "67feb093a2344a559f9b4d3dd2b3b06d",
       "version_major": 2,
       "version_minor": 0
      },
      "text/plain": [
       "  0%|          | 0/15 [00:00<?, ?it/s]"
      ]
     },
     "metadata": {},
     "output_type": "display_data"
    },
    {
     "name": "stdout",
     "output_type": "stream",
     "text": [
      "0.390625\n",
      "trying learning rate 0.009562343597344876\n",
      "trying L2 reg 0.0006460245405125394\n",
      "trying momentum 0.75\n"
     ]
    },
    {
     "data": {
      "application/vnd.jupyter.widget-view+json": {
       "model_id": "28e5e38de8d74c00b2dbbd19611a134e",
       "version_major": 2,
       "version_minor": 0
      },
      "text/plain": [
       "  0%|          | 0/15 [00:00<?, ?it/s]"
      ]
     },
     "metadata": {},
     "output_type": "display_data"
    },
    {
     "name": "stdout",
     "output_type": "stream",
     "text": [
      "0.388671875\n",
      "trying learning rate 0.009562343597344876\n",
      "trying L2 reg 0.0006460245405125394\n",
      "trying momentum 0.9\n"
     ]
    },
    {
     "data": {
      "application/vnd.jupyter.widget-view+json": {
       "model_id": "6ef05b116c35439398be7ece7f53e145",
       "version_major": 2,
       "version_minor": 0
      },
      "text/plain": [
       "  0%|          | 0/15 [00:00<?, ?it/s]"
      ]
     },
     "metadata": {},
     "output_type": "display_data"
    },
    {
     "name": "stdout",
     "output_type": "stream",
     "text": [
      "0.404296875\n",
      "trying learning rate 0.009562343597344876\n",
      "trying L2 reg 0.0007221286759314962\n",
      "trying momentum 0.6\n"
     ]
    },
    {
     "data": {
      "application/vnd.jupyter.widget-view+json": {
       "model_id": "684b960eeb5f40d58bf4ae4818d559cd",
       "version_major": 2,
       "version_minor": 0
      },
      "text/plain": [
       "  0%|          | 0/15 [00:00<?, ?it/s]"
      ]
     },
     "metadata": {},
     "output_type": "display_data"
    },
    {
     "name": "stdout",
     "output_type": "stream",
     "text": [
      "0.3828125\n",
      "trying learning rate 0.009562343597344876\n",
      "trying L2 reg 0.0007221286759314962\n",
      "trying momentum 0.75\n"
     ]
    },
    {
     "data": {
      "application/vnd.jupyter.widget-view+json": {
       "model_id": "50fe3843a06f4ed2a39436d99b752259",
       "version_major": 2,
       "version_minor": 0
      },
      "text/plain": [
       "  0%|          | 0/15 [00:00<?, ?it/s]"
      ]
     },
     "metadata": {},
     "output_type": "display_data"
    },
    {
     "name": "stdout",
     "output_type": "stream",
     "text": [
      "0.380859375\n",
      "trying learning rate 0.009562343597344876\n",
      "trying L2 reg 0.0007221286759314962\n",
      "trying momentum 0.9\n"
     ]
    },
    {
     "data": {
      "application/vnd.jupyter.widget-view+json": {
       "model_id": "894d66d5ec5243caae023d8ab21e5b42",
       "version_major": 2,
       "version_minor": 0
      },
      "text/plain": [
       "  0%|          | 0/15 [00:00<?, ?it/s]"
      ]
     },
     "metadata": {},
     "output_type": "display_data"
    },
    {
     "name": "stdout",
     "output_type": "stream",
     "text": [
      "0.4140625\n",
      "trying learning rate 0.009562343597344876\n",
      "trying L2 reg 0.0009848902832969115\n",
      "trying momentum 0.6\n"
     ]
    },
    {
     "data": {
      "application/vnd.jupyter.widget-view+json": {
       "model_id": "9aa3af959eac413ab81d41be7817f840",
       "version_major": 2,
       "version_minor": 0
      },
      "text/plain": [
       "  0%|          | 0/15 [00:00<?, ?it/s]"
      ]
     },
     "metadata": {},
     "output_type": "display_data"
    },
    {
     "name": "stdout",
     "output_type": "stream",
     "text": [
      "0.376953125\n",
      "trying learning rate 0.009562343597344876\n",
      "trying L2 reg 0.0009848902832969115\n",
      "trying momentum 0.75\n"
     ]
    },
    {
     "data": {
      "application/vnd.jupyter.widget-view+json": {
       "model_id": "d5997e8c78c44d3cbc1f15084a77e216",
       "version_major": 2,
       "version_minor": 0
      },
      "text/plain": [
       "  0%|          | 0/15 [00:00<?, ?it/s]"
      ]
     },
     "metadata": {},
     "output_type": "display_data"
    },
    {
     "name": "stdout",
     "output_type": "stream",
     "text": [
      "0.38671875\n",
      "trying learning rate 0.009562343597344876\n",
      "trying L2 reg 0.0009848902832969115\n",
      "trying momentum 0.9\n"
     ]
    },
    {
     "data": {
      "application/vnd.jupyter.widget-view+json": {
       "model_id": "895616ac3c5543f7a0d489ec81df5c25",
       "version_major": 2,
       "version_minor": 0
      },
      "text/plain": [
       "  0%|          | 0/15 [00:00<?, ?it/s]"
      ]
     },
     "metadata": {},
     "output_type": "display_data"
    },
    {
     "name": "stdout",
     "output_type": "stream",
     "text": [
      "0.408203125\n",
      "trying learning rate 0.009562343597344876\n",
      "trying L2 reg 0.0004856692868949005\n",
      "trying momentum 0.6\n"
     ]
    },
    {
     "data": {
      "application/vnd.jupyter.widget-view+json": {
       "model_id": "a71858f0b26f4e4ab7db84966dd5ae30",
       "version_major": 2,
       "version_minor": 0
      },
      "text/plain": [
       "  0%|          | 0/15 [00:00<?, ?it/s]"
      ]
     },
     "metadata": {},
     "output_type": "display_data"
    },
    {
     "name": "stdout",
     "output_type": "stream",
     "text": [
      "0.380859375\n",
      "trying learning rate 0.009562343597344876\n",
      "trying L2 reg 0.0004856692868949005\n",
      "trying momentum 0.75\n"
     ]
    },
    {
     "data": {
      "application/vnd.jupyter.widget-view+json": {
       "model_id": "01adb0d55d254352aebad93929604a58",
       "version_major": 2,
       "version_minor": 0
      },
      "text/plain": [
       "  0%|          | 0/15 [00:00<?, ?it/s]"
      ]
     },
     "metadata": {},
     "output_type": "display_data"
    },
    {
     "name": "stdout",
     "output_type": "stream",
     "text": [
      "0.41015625\n",
      "trying learning rate 0.009562343597344876\n",
      "trying L2 reg 0.0004856692868949005\n",
      "trying momentum 0.9\n"
     ]
    },
    {
     "data": {
      "application/vnd.jupyter.widget-view+json": {
       "model_id": "442fa75c55c4402a83eefbadcf36a025",
       "version_major": 2,
       "version_minor": 0
      },
      "text/plain": [
       "  0%|          | 0/15 [00:00<?, ?it/s]"
      ]
     },
     "metadata": {},
     "output_type": "display_data"
    },
    {
     "name": "stdout",
     "output_type": "stream",
     "text": [
      "0.4140625\n",
      "trying learning rate 0.005317796185043715\n",
      "trying L2 reg 0.00048167144051312655\n",
      "trying momentum 0.6\n"
     ]
    },
    {
     "data": {
      "application/vnd.jupyter.widget-view+json": {
       "model_id": "941ae097443a4e4fa16a0a3d4c2a33ba",
       "version_major": 2,
       "version_minor": 0
      },
      "text/plain": [
       "  0%|          | 0/15 [00:00<?, ?it/s]"
      ]
     },
     "metadata": {},
     "output_type": "display_data"
    },
    {
     "name": "stdout",
     "output_type": "stream",
     "text": [
      "0.36328125\n",
      "trying learning rate 0.005317796185043715\n",
      "trying L2 reg 0.00048167144051312655\n",
      "trying momentum 0.75\n"
     ]
    },
    {
     "data": {
      "application/vnd.jupyter.widget-view+json": {
       "model_id": "6d06bb0fcb464bd093120051ff3b780d",
       "version_major": 2,
       "version_minor": 0
      },
      "text/plain": [
       "  0%|          | 0/15 [00:00<?, ?it/s]"
      ]
     },
     "metadata": {},
     "output_type": "display_data"
    },
    {
     "name": "stdout",
     "output_type": "stream",
     "text": [
      "0.38671875\n",
      "trying learning rate 0.005317796185043715\n",
      "trying L2 reg 0.00048167144051312655\n",
      "trying momentum 0.9\n"
     ]
    },
    {
     "data": {
      "application/vnd.jupyter.widget-view+json": {
       "model_id": "b305ff28af92462883294e4c226f72ea",
       "version_major": 2,
       "version_minor": 0
      },
      "text/plain": [
       "  0%|          | 0/15 [00:00<?, ?it/s]"
      ]
     },
     "metadata": {},
     "output_type": "display_data"
    },
    {
     "name": "stdout",
     "output_type": "stream",
     "text": [
      "0.396484375\n",
      "trying learning rate 0.005317796185043715\n",
      "trying L2 reg 0.0006460245405125394\n",
      "trying momentum 0.6\n"
     ]
    },
    {
     "data": {
      "application/vnd.jupyter.widget-view+json": {
       "model_id": "e473de54e64147a8b64e3f0f9385a589",
       "version_major": 2,
       "version_minor": 0
      },
      "text/plain": [
       "  0%|          | 0/15 [00:00<?, ?it/s]"
      ]
     },
     "metadata": {},
     "output_type": "display_data"
    },
    {
     "name": "stdout",
     "output_type": "stream",
     "text": [
      "0.380859375\n",
      "trying learning rate 0.005317796185043715\n",
      "trying L2 reg 0.0006460245405125394\n",
      "trying momentum 0.75\n"
     ]
    },
    {
     "data": {
      "application/vnd.jupyter.widget-view+json": {
       "model_id": "67ce7b7c149443daa5b3671c9079171a",
       "version_major": 2,
       "version_minor": 0
      },
      "text/plain": [
       "  0%|          | 0/15 [00:00<?, ?it/s]"
      ]
     },
     "metadata": {},
     "output_type": "display_data"
    },
    {
     "name": "stdout",
     "output_type": "stream",
     "text": [
      "0.3828125\n",
      "trying learning rate 0.005317796185043715\n",
      "trying L2 reg 0.0006460245405125394\n",
      "trying momentum 0.9\n"
     ]
    },
    {
     "data": {
      "application/vnd.jupyter.widget-view+json": {
       "model_id": "3d74fc09b14640a99a4f72aa6cf13ba3",
       "version_major": 2,
       "version_minor": 0
      },
      "text/plain": [
       "  0%|          | 0/15 [00:00<?, ?it/s]"
      ]
     },
     "metadata": {},
     "output_type": "display_data"
    },
    {
     "name": "stdout",
     "output_type": "stream",
     "text": [
      "0.4140625\n",
      "trying learning rate 0.005317796185043715\n",
      "trying L2 reg 0.0007221286759314962\n",
      "trying momentum 0.6\n"
     ]
    },
    {
     "data": {
      "application/vnd.jupyter.widget-view+json": {
       "model_id": "d7a53edbe53c42c29466edd20f0ab994",
       "version_major": 2,
       "version_minor": 0
      },
      "text/plain": [
       "  0%|          | 0/15 [00:00<?, ?it/s]"
      ]
     },
     "metadata": {},
     "output_type": "display_data"
    },
    {
     "name": "stdout",
     "output_type": "stream",
     "text": [
      "0.359375\n",
      "trying learning rate 0.005317796185043715\n",
      "trying L2 reg 0.0007221286759314962\n",
      "trying momentum 0.75\n"
     ]
    },
    {
     "data": {
      "application/vnd.jupyter.widget-view+json": {
       "model_id": "07ebac451b2c4494b48ed17766b13bbb",
       "version_major": 2,
       "version_minor": 0
      },
      "text/plain": [
       "  0%|          | 0/15 [00:00<?, ?it/s]"
      ]
     },
     "metadata": {},
     "output_type": "display_data"
    },
    {
     "name": "stdout",
     "output_type": "stream",
     "text": [
      "0.388671875\n",
      "trying learning rate 0.005317796185043715\n",
      "trying L2 reg 0.0007221286759314962\n",
      "trying momentum 0.9\n"
     ]
    },
    {
     "data": {
      "application/vnd.jupyter.widget-view+json": {
       "model_id": "35fd6ddcf4e249008f4b2abbd3364a8d",
       "version_major": 2,
       "version_minor": 0
      },
      "text/plain": [
       "  0%|          | 0/15 [00:00<?, ?it/s]"
      ]
     },
     "metadata": {},
     "output_type": "display_data"
    },
    {
     "name": "stdout",
     "output_type": "stream",
     "text": [
      "0.419921875\n",
      "trying learning rate 0.005317796185043715\n",
      "trying L2 reg 0.0009848902832969115\n",
      "trying momentum 0.6\n"
     ]
    },
    {
     "data": {
      "application/vnd.jupyter.widget-view+json": {
       "model_id": "8a96616abb824a38aa52973dd9a26699",
       "version_major": 2,
       "version_minor": 0
      },
      "text/plain": [
       "  0%|          | 0/15 [00:00<?, ?it/s]"
      ]
     },
     "metadata": {},
     "output_type": "display_data"
    },
    {
     "name": "stdout",
     "output_type": "stream",
     "text": [
      "0.37890625\n",
      "trying learning rate 0.005317796185043715\n",
      "trying L2 reg 0.0009848902832969115\n",
      "trying momentum 0.75\n"
     ]
    },
    {
     "data": {
      "application/vnd.jupyter.widget-view+json": {
       "model_id": "2e1f17635a2e4c33bc56dd148343730b",
       "version_major": 2,
       "version_minor": 0
      },
      "text/plain": [
       "  0%|          | 0/15 [00:00<?, ?it/s]"
      ]
     },
     "metadata": {},
     "output_type": "display_data"
    },
    {
     "name": "stdout",
     "output_type": "stream",
     "text": [
      "0.3828125\n",
      "trying learning rate 0.005317796185043715\n",
      "trying L2 reg 0.0009848902832969115\n",
      "trying momentum 0.9\n"
     ]
    },
    {
     "data": {
      "application/vnd.jupyter.widget-view+json": {
       "model_id": "e7e121e865fc4488b9db9270bc9b0d41",
       "version_major": 2,
       "version_minor": 0
      },
      "text/plain": [
       "  0%|          | 0/15 [00:00<?, ?it/s]"
      ]
     },
     "metadata": {},
     "output_type": "display_data"
    },
    {
     "name": "stdout",
     "output_type": "stream",
     "text": [
      "0.41015625\n",
      "trying learning rate 0.005317796185043715\n",
      "trying L2 reg 0.0004856692868949005\n",
      "trying momentum 0.6\n"
     ]
    },
    {
     "data": {
      "application/vnd.jupyter.widget-view+json": {
       "model_id": "6b4c390eb8614f3bb3e99fa78d21b8af",
       "version_major": 2,
       "version_minor": 0
      },
      "text/plain": [
       "  0%|          | 0/15 [00:00<?, ?it/s]"
      ]
     },
     "metadata": {},
     "output_type": "display_data"
    },
    {
     "name": "stdout",
     "output_type": "stream",
     "text": [
      "0.369140625\n",
      "trying learning rate 0.005317796185043715\n",
      "trying L2 reg 0.0004856692868949005\n",
      "trying momentum 0.75\n"
     ]
    },
    {
     "data": {
      "application/vnd.jupyter.widget-view+json": {
       "model_id": "645b95d6e2444c19832ea30d3e938de1",
       "version_major": 2,
       "version_minor": 0
      },
      "text/plain": [
       "  0%|          | 0/15 [00:00<?, ?it/s]"
      ]
     },
     "metadata": {},
     "output_type": "display_data"
    },
    {
     "name": "stdout",
     "output_type": "stream",
     "text": [
      "0.412109375\n",
      "trying learning rate 0.005317796185043715\n",
      "trying L2 reg 0.0004856692868949005\n",
      "trying momentum 0.9\n"
     ]
    },
    {
     "data": {
      "application/vnd.jupyter.widget-view+json": {
       "model_id": "36dcf467d52841448eae4ea8d7ba4d31",
       "version_major": 2,
       "version_minor": 0
      },
      "text/plain": [
       "  0%|          | 0/15 [00:00<?, ?it/s]"
      ]
     },
     "metadata": {},
     "output_type": "display_data"
    },
    {
     "name": "stdout",
     "output_type": "stream",
     "text": [
      "0.40625\n",
      "trying learning rate 0.004505927646052294\n",
      "trying L2 reg 0.00048167144051312655\n",
      "trying momentum 0.6\n"
     ]
    },
    {
     "data": {
      "application/vnd.jupyter.widget-view+json": {
       "model_id": "ee97670197494878ab8f6177042cb1f2",
       "version_major": 2,
       "version_minor": 0
      },
      "text/plain": [
       "  0%|          | 0/15 [00:00<?, ?it/s]"
      ]
     },
     "metadata": {},
     "output_type": "display_data"
    },
    {
     "name": "stdout",
     "output_type": "stream",
     "text": [
      "0.369140625\n",
      "trying learning rate 0.004505927646052294\n",
      "trying L2 reg 0.00048167144051312655\n",
      "trying momentum 0.75\n"
     ]
    },
    {
     "data": {
      "application/vnd.jupyter.widget-view+json": {
       "model_id": "6376494e0f614984b15666d1bc42cf5a",
       "version_major": 2,
       "version_minor": 0
      },
      "text/plain": [
       "  0%|          | 0/15 [00:00<?, ?it/s]"
      ]
     },
     "metadata": {},
     "output_type": "display_data"
    },
    {
     "name": "stdout",
     "output_type": "stream",
     "text": [
      "0.39453125\n",
      "trying learning rate 0.004505927646052294\n",
      "trying L2 reg 0.00048167144051312655\n",
      "trying momentum 0.9\n"
     ]
    },
    {
     "data": {
      "application/vnd.jupyter.widget-view+json": {
       "model_id": "a303e7395d664b6d8fd2354181bace87",
       "version_major": 2,
       "version_minor": 0
      },
      "text/plain": [
       "  0%|          | 0/15 [00:00<?, ?it/s]"
      ]
     },
     "metadata": {},
     "output_type": "display_data"
    },
    {
     "name": "stdout",
     "output_type": "stream",
     "text": [
      "0.41015625\n",
      "trying learning rate 0.004505927646052294\n",
      "trying L2 reg 0.0006460245405125394\n",
      "trying momentum 0.6\n"
     ]
    },
    {
     "data": {
      "application/vnd.jupyter.widget-view+json": {
       "model_id": "351c6191c86645df851d2834f10c1921",
       "version_major": 2,
       "version_minor": 0
      },
      "text/plain": [
       "  0%|          | 0/15 [00:00<?, ?it/s]"
      ]
     },
     "metadata": {},
     "output_type": "display_data"
    },
    {
     "name": "stdout",
     "output_type": "stream",
     "text": [
      "0.380859375\n",
      "trying learning rate 0.004505927646052294\n",
      "trying L2 reg 0.0006460245405125394\n",
      "trying momentum 0.75\n"
     ]
    },
    {
     "data": {
      "application/vnd.jupyter.widget-view+json": {
       "model_id": "8e6cda30211d464298585ef91216579f",
       "version_major": 2,
       "version_minor": 0
      },
      "text/plain": [
       "  0%|          | 0/15 [00:00<?, ?it/s]"
      ]
     },
     "metadata": {},
     "output_type": "display_data"
    },
    {
     "name": "stdout",
     "output_type": "stream",
     "text": [
      "0.3828125\n",
      "trying learning rate 0.004505927646052294\n",
      "trying L2 reg 0.0006460245405125394\n",
      "trying momentum 0.9\n"
     ]
    },
    {
     "data": {
      "application/vnd.jupyter.widget-view+json": {
       "model_id": "671696a865e5416eacbd2d9cae3e7ad7",
       "version_major": 2,
       "version_minor": 0
      },
      "text/plain": [
       "  0%|          | 0/15 [00:00<?, ?it/s]"
      ]
     },
     "metadata": {},
     "output_type": "display_data"
    },
    {
     "name": "stdout",
     "output_type": "stream",
     "text": [
      "0.41015625\n",
      "trying learning rate 0.004505927646052294\n",
      "trying L2 reg 0.0007221286759314962\n",
      "trying momentum 0.6\n"
     ]
    },
    {
     "data": {
      "application/vnd.jupyter.widget-view+json": {
       "model_id": "cd127c9754c143abbe919b6d1384b1ed",
       "version_major": 2,
       "version_minor": 0
      },
      "text/plain": [
       "  0%|          | 0/15 [00:00<?, ?it/s]"
      ]
     },
     "metadata": {},
     "output_type": "display_data"
    },
    {
     "name": "stdout",
     "output_type": "stream",
     "text": [
      "0.36328125\n",
      "trying learning rate 0.004505927646052294\n",
      "trying L2 reg 0.0007221286759314962\n",
      "trying momentum 0.75\n"
     ]
    },
    {
     "data": {
      "application/vnd.jupyter.widget-view+json": {
       "model_id": "3bca3fd464364db295a259b0ca97cbef",
       "version_major": 2,
       "version_minor": 0
      },
      "text/plain": [
       "  0%|          | 0/15 [00:00<?, ?it/s]"
      ]
     },
     "metadata": {},
     "output_type": "display_data"
    },
    {
     "name": "stdout",
     "output_type": "stream",
     "text": [
      "0.3828125\n",
      "trying learning rate 0.004505927646052294\n",
      "trying L2 reg 0.0007221286759314962\n",
      "trying momentum 0.9\n"
     ]
    },
    {
     "data": {
      "application/vnd.jupyter.widget-view+json": {
       "model_id": "b4004808354248f9904a30a63e8fd949",
       "version_major": 2,
       "version_minor": 0
      },
      "text/plain": [
       "  0%|          | 0/15 [00:00<?, ?it/s]"
      ]
     },
     "metadata": {},
     "output_type": "display_data"
    },
    {
     "name": "stdout",
     "output_type": "stream",
     "text": [
      "0.408203125\n",
      "trying learning rate 0.004505927646052294\n",
      "trying L2 reg 0.0009848902832969115\n",
      "trying momentum 0.6\n"
     ]
    },
    {
     "data": {
      "application/vnd.jupyter.widget-view+json": {
       "model_id": "d2868d379aa7462b80a94706128abf6f",
       "version_major": 2,
       "version_minor": 0
      },
      "text/plain": [
       "  0%|          | 0/15 [00:00<?, ?it/s]"
      ]
     },
     "metadata": {},
     "output_type": "display_data"
    },
    {
     "name": "stdout",
     "output_type": "stream",
     "text": [
      "0.3671875\n",
      "trying learning rate 0.004505927646052294\n",
      "trying L2 reg 0.0009848902832969115\n",
      "trying momentum 0.75\n"
     ]
    },
    {
     "data": {
      "application/vnd.jupyter.widget-view+json": {
       "model_id": "70efdda84c9b47d5af54db38dfa772c2",
       "version_major": 2,
       "version_minor": 0
      },
      "text/plain": [
       "  0%|          | 0/15 [00:00<?, ?it/s]"
      ]
     },
     "metadata": {},
     "output_type": "display_data"
    },
    {
     "name": "stdout",
     "output_type": "stream",
     "text": [
      "0.38671875\n",
      "trying learning rate 0.004505927646052294\n",
      "trying L2 reg 0.0009848902832969115\n",
      "trying momentum 0.9\n"
     ]
    },
    {
     "data": {
      "application/vnd.jupyter.widget-view+json": {
       "model_id": "3ea9d9af6eea441299c58fccbd7ffb0d",
       "version_major": 2,
       "version_minor": 0
      },
      "text/plain": [
       "  0%|          | 0/15 [00:00<?, ?it/s]"
      ]
     },
     "metadata": {},
     "output_type": "display_data"
    },
    {
     "name": "stdout",
     "output_type": "stream",
     "text": [
      "0.412109375\n",
      "trying learning rate 0.004505927646052294\n",
      "trying L2 reg 0.0004856692868949005\n",
      "trying momentum 0.6\n"
     ]
    },
    {
     "data": {
      "application/vnd.jupyter.widget-view+json": {
       "model_id": "43a8cc76fccb47bd8f93d06066eb098c",
       "version_major": 2,
       "version_minor": 0
      },
      "text/plain": [
       "  0%|          | 0/15 [00:00<?, ?it/s]"
      ]
     },
     "metadata": {},
     "output_type": "display_data"
    },
    {
     "name": "stdout",
     "output_type": "stream",
     "text": [
      "0.3828125\n",
      "trying learning rate 0.004505927646052294\n",
      "trying L2 reg 0.0004856692868949005\n",
      "trying momentum 0.75\n"
     ]
    },
    {
     "data": {
      "application/vnd.jupyter.widget-view+json": {
       "model_id": "1638863fcecf4debb18f4d463f85bcb1",
       "version_major": 2,
       "version_minor": 0
      },
      "text/plain": [
       "  0%|          | 0/15 [00:00<?, ?it/s]"
      ]
     },
     "metadata": {},
     "output_type": "display_data"
    },
    {
     "name": "stdout",
     "output_type": "stream",
     "text": [
      "0.404296875\n",
      "trying learning rate 0.004505927646052294\n",
      "trying L2 reg 0.0004856692868949005\n",
      "trying momentum 0.9\n"
     ]
    },
    {
     "data": {
      "application/vnd.jupyter.widget-view+json": {
       "model_id": "f63e80f5d1c641f588476b1946fa87a8",
       "version_major": 2,
       "version_minor": 0
      },
      "text/plain": [
       "  0%|          | 0/15 [00:00<?, ?it/s]"
      ]
     },
     "metadata": {},
     "output_type": "display_data"
    },
    {
     "name": "stdout",
     "output_type": "stream",
     "text": [
      "0.421875\n",
      "trying learning rate 0.0057684264810474156\n",
      "trying L2 reg 0.00048167144051312655\n",
      "trying momentum 0.6\n"
     ]
    },
    {
     "data": {
      "application/vnd.jupyter.widget-view+json": {
       "model_id": "b12aa0b81ce248beb845fb1c2c0f5d4b",
       "version_major": 2,
       "version_minor": 0
      },
      "text/plain": [
       "  0%|          | 0/15 [00:00<?, ?it/s]"
      ]
     },
     "metadata": {},
     "output_type": "display_data"
    },
    {
     "name": "stdout",
     "output_type": "stream",
     "text": [
      "0.361328125\n",
      "trying learning rate 0.0057684264810474156\n",
      "trying L2 reg 0.00048167144051312655\n",
      "trying momentum 0.75\n"
     ]
    },
    {
     "data": {
      "application/vnd.jupyter.widget-view+json": {
       "model_id": "29279d8963ac4c6bafb9b9422bb9790c",
       "version_major": 2,
       "version_minor": 0
      },
      "text/plain": [
       "  0%|          | 0/15 [00:00<?, ?it/s]"
      ]
     },
     "metadata": {},
     "output_type": "display_data"
    },
    {
     "name": "stdout",
     "output_type": "stream",
     "text": [
      "0.40234375\n",
      "trying learning rate 0.0057684264810474156\n",
      "trying L2 reg 0.00048167144051312655\n",
      "trying momentum 0.9\n"
     ]
    },
    {
     "data": {
      "application/vnd.jupyter.widget-view+json": {
       "model_id": "a881c6d0e74143b88be8497adf65c590",
       "version_major": 2,
       "version_minor": 0
      },
      "text/plain": [
       "  0%|          | 0/15 [00:00<?, ?it/s]"
      ]
     },
     "metadata": {},
     "output_type": "display_data"
    },
    {
     "name": "stdout",
     "output_type": "stream",
     "text": [
      "0.404296875\n",
      "trying learning rate 0.0057684264810474156\n",
      "trying L2 reg 0.0006460245405125394\n",
      "trying momentum 0.6\n"
     ]
    },
    {
     "data": {
      "application/vnd.jupyter.widget-view+json": {
       "model_id": "177a6d9c5a4d486cb34f74ecb9370b5b",
       "version_major": 2,
       "version_minor": 0
      },
      "text/plain": [
       "  0%|          | 0/15 [00:00<?, ?it/s]"
      ]
     },
     "metadata": {},
     "output_type": "display_data"
    },
    {
     "name": "stdout",
     "output_type": "stream",
     "text": [
      "0.384765625\n",
      "trying learning rate 0.0057684264810474156\n",
      "trying L2 reg 0.0006460245405125394\n",
      "trying momentum 0.75\n"
     ]
    },
    {
     "data": {
      "application/vnd.jupyter.widget-view+json": {
       "model_id": "40a77f63c3f84c53a71b23661180561f",
       "version_major": 2,
       "version_minor": 0
      },
      "text/plain": [
       "  0%|          | 0/15 [00:00<?, ?it/s]"
      ]
     },
     "metadata": {},
     "output_type": "display_data"
    },
    {
     "name": "stdout",
     "output_type": "stream",
     "text": [
      "0.388671875\n",
      "trying learning rate 0.0057684264810474156\n",
      "trying L2 reg 0.0006460245405125394\n",
      "trying momentum 0.9\n"
     ]
    },
    {
     "data": {
      "application/vnd.jupyter.widget-view+json": {
       "model_id": "6731279472214cc9a69cec248188c986",
       "version_major": 2,
       "version_minor": 0
      },
      "text/plain": [
       "  0%|          | 0/15 [00:00<?, ?it/s]"
      ]
     },
     "metadata": {},
     "output_type": "display_data"
    },
    {
     "name": "stdout",
     "output_type": "stream",
     "text": [
      "0.404296875\n",
      "trying learning rate 0.0057684264810474156\n",
      "trying L2 reg 0.0007221286759314962\n",
      "trying momentum 0.6\n"
     ]
    },
    {
     "data": {
      "application/vnd.jupyter.widget-view+json": {
       "model_id": "b4d5f18cb58f45dfb2112270f640be5b",
       "version_major": 2,
       "version_minor": 0
      },
      "text/plain": [
       "  0%|          | 0/15 [00:00<?, ?it/s]"
      ]
     },
     "metadata": {},
     "output_type": "display_data"
    },
    {
     "name": "stdout",
     "output_type": "stream",
     "text": [
      "0.3671875\n",
      "trying learning rate 0.0057684264810474156\n",
      "trying L2 reg 0.0007221286759314962\n",
      "trying momentum 0.75\n"
     ]
    },
    {
     "data": {
      "application/vnd.jupyter.widget-view+json": {
       "model_id": "08cbde97bde94f1db296f32d510541d6",
       "version_major": 2,
       "version_minor": 0
      },
      "text/plain": [
       "  0%|          | 0/15 [00:00<?, ?it/s]"
      ]
     },
     "metadata": {},
     "output_type": "display_data"
    },
    {
     "name": "stdout",
     "output_type": "stream",
     "text": [
      "0.373046875\n",
      "trying learning rate 0.0057684264810474156\n",
      "trying L2 reg 0.0007221286759314962\n",
      "trying momentum 0.9\n"
     ]
    },
    {
     "data": {
      "application/vnd.jupyter.widget-view+json": {
       "model_id": "f75db81c0dbc48e085af1d7b962c46c6",
       "version_major": 2,
       "version_minor": 0
      },
      "text/plain": [
       "  0%|          | 0/15 [00:00<?, ?it/s]"
      ]
     },
     "metadata": {},
     "output_type": "display_data"
    },
    {
     "name": "stdout",
     "output_type": "stream",
     "text": [
      "0.416015625\n",
      "trying learning rate 0.0057684264810474156\n",
      "trying L2 reg 0.0009848902832969115\n",
      "trying momentum 0.6\n"
     ]
    },
    {
     "data": {
      "application/vnd.jupyter.widget-view+json": {
       "model_id": "85c5c3ed08db4b279831120b7bcb9911",
       "version_major": 2,
       "version_minor": 0
      },
      "text/plain": [
       "  0%|          | 0/15 [00:00<?, ?it/s]"
      ]
     },
     "metadata": {},
     "output_type": "display_data"
    },
    {
     "name": "stdout",
     "output_type": "stream",
     "text": [
      "0.3828125\n",
      "trying learning rate 0.0057684264810474156\n",
      "trying L2 reg 0.0009848902832969115\n",
      "trying momentum 0.75\n"
     ]
    },
    {
     "data": {
      "application/vnd.jupyter.widget-view+json": {
       "model_id": "87b9238c58ac4409b0850f346f611d34",
       "version_major": 2,
       "version_minor": 0
      },
      "text/plain": [
       "  0%|          | 0/15 [00:00<?, ?it/s]"
      ]
     },
     "metadata": {},
     "output_type": "display_data"
    },
    {
     "name": "stdout",
     "output_type": "stream",
     "text": [
      "0.3984375\n",
      "trying learning rate 0.0057684264810474156\n",
      "trying L2 reg 0.0009848902832969115\n",
      "trying momentum 0.9\n"
     ]
    },
    {
     "data": {
      "application/vnd.jupyter.widget-view+json": {
       "model_id": "b8d01f31637d4b8db6dabed0792e611b",
       "version_major": 2,
       "version_minor": 0
      },
      "text/plain": [
       "  0%|          | 0/15 [00:00<?, ?it/s]"
      ]
     },
     "metadata": {},
     "output_type": "display_data"
    },
    {
     "name": "stdout",
     "output_type": "stream",
     "text": [
      "0.4140625\n",
      "trying learning rate 0.0057684264810474156\n",
      "trying L2 reg 0.0004856692868949005\n",
      "trying momentum 0.6\n"
     ]
    },
    {
     "data": {
      "application/vnd.jupyter.widget-view+json": {
       "model_id": "3fd58198fee346ffb6a4045bbcd8d561",
       "version_major": 2,
       "version_minor": 0
      },
      "text/plain": [
       "  0%|          | 0/15 [00:00<?, ?it/s]"
      ]
     },
     "metadata": {},
     "output_type": "display_data"
    },
    {
     "name": "stdout",
     "output_type": "stream",
     "text": [
      "0.361328125\n",
      "trying learning rate 0.0057684264810474156\n",
      "trying L2 reg 0.0004856692868949005\n",
      "trying momentum 0.75\n"
     ]
    },
    {
     "data": {
      "application/vnd.jupyter.widget-view+json": {
       "model_id": "b804db1c4bae4479899f990c656ac005",
       "version_major": 2,
       "version_minor": 0
      },
      "text/plain": [
       "  0%|          | 0/15 [00:00<?, ?it/s]"
      ]
     },
     "metadata": {},
     "output_type": "display_data"
    },
    {
     "name": "stdout",
     "output_type": "stream",
     "text": [
      "0.384765625\n",
      "trying learning rate 0.0057684264810474156\n",
      "trying L2 reg 0.0004856692868949005\n",
      "trying momentum 0.9\n"
     ]
    },
    {
     "data": {
      "application/vnd.jupyter.widget-view+json": {
       "model_id": "6e31b3c1ec49468a8a6932a123b4b229",
       "version_major": 2,
       "version_minor": 0
      },
      "text/plain": [
       "  0%|          | 0/15 [00:00<?, ?it/s]"
      ]
     },
     "metadata": {},
     "output_type": "display_data"
    },
    {
     "name": "stdout",
     "output_type": "stream",
     "text": [
      "0.416015625\n",
      "trying learning rate 0.008181856561245083\n",
      "trying L2 reg 0.00048167144051312655\n",
      "trying momentum 0.6\n"
     ]
    },
    {
     "data": {
      "application/vnd.jupyter.widget-view+json": {
       "model_id": "44b036ae62ba4bb0b6a2517d002359b9",
       "version_major": 2,
       "version_minor": 0
      },
      "text/plain": [
       "  0%|          | 0/15 [00:00<?, ?it/s]"
      ]
     },
     "metadata": {},
     "output_type": "display_data"
    },
    {
     "name": "stdout",
     "output_type": "stream",
     "text": [
      "0.37890625\n",
      "trying learning rate 0.008181856561245083\n",
      "trying L2 reg 0.00048167144051312655\n",
      "trying momentum 0.75\n"
     ]
    },
    {
     "data": {
      "application/vnd.jupyter.widget-view+json": {
       "model_id": "bfe67bfa85d04fb9b57cf79733add4de",
       "version_major": 2,
       "version_minor": 0
      },
      "text/plain": [
       "  0%|          | 0/15 [00:00<?, ?it/s]"
      ]
     },
     "metadata": {},
     "output_type": "display_data"
    },
    {
     "name": "stdout",
     "output_type": "stream",
     "text": [
      "0.396484375\n",
      "trying learning rate 0.008181856561245083\n",
      "trying L2 reg 0.00048167144051312655\n",
      "trying momentum 0.9\n"
     ]
    },
    {
     "data": {
      "application/vnd.jupyter.widget-view+json": {
       "model_id": "8855056cb1aa4992bfbcea94772180d2",
       "version_major": 2,
       "version_minor": 0
      },
      "text/plain": [
       "  0%|          | 0/15 [00:00<?, ?it/s]"
      ]
     },
     "metadata": {},
     "output_type": "display_data"
    },
    {
     "name": "stdout",
     "output_type": "stream",
     "text": [
      "0.419921875\n",
      "trying learning rate 0.008181856561245083\n",
      "trying L2 reg 0.0006460245405125394\n",
      "trying momentum 0.6\n"
     ]
    },
    {
     "data": {
      "application/vnd.jupyter.widget-view+json": {
       "model_id": "d35a05cbf20540d0b69158efcc87648a",
       "version_major": 2,
       "version_minor": 0
      },
      "text/plain": [
       "  0%|          | 0/15 [00:00<?, ?it/s]"
      ]
     },
     "metadata": {},
     "output_type": "display_data"
    },
    {
     "name": "stdout",
     "output_type": "stream",
     "text": [
      "0.384765625\n",
      "trying learning rate 0.008181856561245083\n",
      "trying L2 reg 0.0006460245405125394\n",
      "trying momentum 0.75\n"
     ]
    },
    {
     "data": {
      "application/vnd.jupyter.widget-view+json": {
       "model_id": "15f2251b37f648d2a703229df37c8811",
       "version_major": 2,
       "version_minor": 0
      },
      "text/plain": [
       "  0%|          | 0/15 [00:00<?, ?it/s]"
      ]
     },
     "metadata": {},
     "output_type": "display_data"
    },
    {
     "name": "stdout",
     "output_type": "stream",
     "text": [
      "0.400390625\n",
      "trying learning rate 0.008181856561245083\n",
      "trying L2 reg 0.0006460245405125394\n",
      "trying momentum 0.9\n"
     ]
    },
    {
     "data": {
      "application/vnd.jupyter.widget-view+json": {
       "model_id": "247b1c7d5efd414a82bfc09b8e83d7aa",
       "version_major": 2,
       "version_minor": 0
      },
      "text/plain": [
       "  0%|          | 0/15 [00:00<?, ?it/s]"
      ]
     },
     "metadata": {},
     "output_type": "display_data"
    },
    {
     "name": "stdout",
     "output_type": "stream",
     "text": [
      "0.40625\n",
      "trying learning rate 0.008181856561245083\n",
      "trying L2 reg 0.0007221286759314962\n",
      "trying momentum 0.6\n"
     ]
    },
    {
     "data": {
      "application/vnd.jupyter.widget-view+json": {
       "model_id": "9f2a3e6a46ee47d696c47beb73ace3ef",
       "version_major": 2,
       "version_minor": 0
      },
      "text/plain": [
       "  0%|          | 0/15 [00:00<?, ?it/s]"
      ]
     },
     "metadata": {},
     "output_type": "display_data"
    },
    {
     "name": "stdout",
     "output_type": "stream",
     "text": [
      "0.376953125\n",
      "trying learning rate 0.008181856561245083\n",
      "trying L2 reg 0.0007221286759314962\n",
      "trying momentum 0.75\n"
     ]
    },
    {
     "data": {
      "application/vnd.jupyter.widget-view+json": {
       "model_id": "6321165e948f47019ab62d1bf496a692",
       "version_major": 2,
       "version_minor": 0
      },
      "text/plain": [
       "  0%|          | 0/15 [00:00<?, ?it/s]"
      ]
     },
     "metadata": {},
     "output_type": "display_data"
    },
    {
     "name": "stdout",
     "output_type": "stream",
     "text": [
      "0.3828125\n",
      "trying learning rate 0.008181856561245083\n",
      "trying L2 reg 0.0007221286759314962\n",
      "trying momentum 0.9\n"
     ]
    },
    {
     "data": {
      "application/vnd.jupyter.widget-view+json": {
       "model_id": "b8bc7ee7bcac4dbb8029a989af3d3360",
       "version_major": 2,
       "version_minor": 0
      },
      "text/plain": [
       "  0%|          | 0/15 [00:00<?, ?it/s]"
      ]
     },
     "metadata": {},
     "output_type": "display_data"
    },
    {
     "name": "stdout",
     "output_type": "stream",
     "text": [
      "0.412109375\n",
      "trying learning rate 0.008181856561245083\n",
      "trying L2 reg 0.0009848902832969115\n",
      "trying momentum 0.6\n"
     ]
    },
    {
     "data": {
      "application/vnd.jupyter.widget-view+json": {
       "model_id": "f0787e94e41d478d8b679f7455807a68",
       "version_major": 2,
       "version_minor": 0
      },
      "text/plain": [
       "  0%|          | 0/15 [00:00<?, ?it/s]"
      ]
     },
     "metadata": {},
     "output_type": "display_data"
    },
    {
     "name": "stdout",
     "output_type": "stream",
     "text": [
      "0.388671875\n",
      "trying learning rate 0.008181856561245083\n",
      "trying L2 reg 0.0009848902832969115\n",
      "trying momentum 0.75\n"
     ]
    },
    {
     "data": {
      "application/vnd.jupyter.widget-view+json": {
       "model_id": "3360d62a1ac5490aabff924119355644",
       "version_major": 2,
       "version_minor": 0
      },
      "text/plain": [
       "  0%|          | 0/15 [00:00<?, ?it/s]"
      ]
     },
     "metadata": {},
     "output_type": "display_data"
    },
    {
     "name": "stdout",
     "output_type": "stream",
     "text": [
      "0.404296875\n",
      "trying learning rate 0.008181856561245083\n",
      "trying L2 reg 0.0009848902832969115\n",
      "trying momentum 0.9\n"
     ]
    },
    {
     "data": {
      "application/vnd.jupyter.widget-view+json": {
       "model_id": "db0f0664a12e4d2e94bc268e2dedf986",
       "version_major": 2,
       "version_minor": 0
      },
      "text/plain": [
       "  0%|          | 0/15 [00:00<?, ?it/s]"
      ]
     },
     "metadata": {},
     "output_type": "display_data"
    },
    {
     "name": "stdout",
     "output_type": "stream",
     "text": [
      "0.3984375\n",
      "trying learning rate 0.008181856561245083\n",
      "trying L2 reg 0.0004856692868949005\n",
      "trying momentum 0.6\n"
     ]
    },
    {
     "data": {
      "application/vnd.jupyter.widget-view+json": {
       "model_id": "8ba844d5c0864c26bcfbdc36b7f8b186",
       "version_major": 2,
       "version_minor": 0
      },
      "text/plain": [
       "  0%|          | 0/15 [00:00<?, ?it/s]"
      ]
     },
     "metadata": {},
     "output_type": "display_data"
    },
    {
     "name": "stdout",
     "output_type": "stream",
     "text": [
      "0.384765625\n",
      "trying learning rate 0.008181856561245083\n",
      "trying L2 reg 0.0004856692868949005\n",
      "trying momentum 0.75\n"
     ]
    },
    {
     "data": {
      "application/vnd.jupyter.widget-view+json": {
       "model_id": "560279a7823b4ca2a77c18f1a901d3d0",
       "version_major": 2,
       "version_minor": 0
      },
      "text/plain": [
       "  0%|          | 0/15 [00:00<?, ?it/s]"
      ]
     },
     "metadata": {},
     "output_type": "display_data"
    },
    {
     "name": "stdout",
     "output_type": "stream",
     "text": [
      "0.392578125\n",
      "trying learning rate 0.008181856561245083\n",
      "trying L2 reg 0.0004856692868949005\n",
      "trying momentum 0.9\n"
     ]
    },
    {
     "data": {
      "application/vnd.jupyter.widget-view+json": {
       "model_id": "a9f9e9f91031451c8f1a647be8ea2cef",
       "version_major": 2,
       "version_minor": 0
      },
      "text/plain": [
       "  0%|          | 0/15 [00:00<?, ?it/s]"
      ]
     },
     "metadata": {},
     "output_type": "display_data"
    },
    {
     "name": "stdout",
     "output_type": "stream",
     "text": [
      "0.4140625\n"
     ]
    }
   ],
   "source": [
    "best_params = parameter_search(train_loader, val_loader, model_A(M=2048))"
   ]
  },
  {
   "cell_type": "code",
   "execution_count": 206,
   "id": "cefa2ce7-0e95-443b-8959-147d8780dfbe",
   "metadata": {},
   "outputs": [
    {
     "name": "stdout",
     "output_type": "stream",
     "text": [
      "(0.009562343597344876, 0.0007221286759314962, 0.9, 0.4140625)\n"
     ]
    }
   ],
   "source": [
    "print(best_params)"
   ]
  },
  {
   "cell_type": "code",
   "execution_count": null,
   "id": "b480c340-956e-43e6-9c89-6282f93826dd",
   "metadata": {},
   "outputs": [],
   "source": []
  }
 ],
 "metadata": {
  "kernelspec": {
   "display_name": "cse446",
   "language": "python",
   "name": "cse446"
  },
  "language_info": {
   "codemirror_mode": {
    "name": "ipython",
    "version": 3
   },
   "file_extension": ".py",
   "mimetype": "text/x-python",
   "name": "python",
   "nbconvert_exporter": "python",
   "pygments_lexer": "ipython3",
   "version": "3.9.21"
  }
 },
 "nbformat": 4,
 "nbformat_minor": 5
}
